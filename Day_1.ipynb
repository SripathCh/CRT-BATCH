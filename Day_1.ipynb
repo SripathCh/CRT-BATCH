{
  "nbformat": 4,
  "nbformat_minor": 0,
  "metadata": {
    "colab": {
      "name": "Day-1.ipynb",
      "provenance": [],
      "collapsed_sections": []
    },
    "kernelspec": {
      "name": "python3",
      "display_name": "Python 3"
    }
  },
  "cells": [
    {
      "cell_type": "code",
      "metadata": {
        "id": "Mc3J4peq_uDF",
        "colab_type": "code",
        "outputId": "c8475bd2-d34f-4095-f36a-c9c8a9754470",
        "colab": {
          "base_uri": "https://localhost:8080/",
          "height": 69
        }
      },
      "source": [
        "print(\"Gitam\")\n",
        "print(\"Gitam\")\n",
        "print(\"Gitam\")"
      ],
      "execution_count": 0,
      "outputs": [
        {
          "output_type": "stream",
          "text": [
            "Gitam\n",
            "Gitam\n",
            "Gitam\n"
          ],
          "name": "stdout"
        }
      ]
    },
    {
      "cell_type": "code",
      "metadata": {
        "id": "LAVKT4yADnOF",
        "colab_type": "code",
        "outputId": "785fd7b8-2701-4605-d9c1-962e1700904f",
        "colab": {
          "base_uri": "https://localhost:8080/",
          "height": 34
        }
      },
      "source": [
        "print(\"Sripath\",end=' @ ')\n",
        "print(\"gmail\")"
      ],
      "execution_count": 0,
      "outputs": [
        {
          "output_type": "stream",
          "text": [
            "Sripath @ gmail\n"
          ],
          "name": "stdout"
        }
      ]
    },
    {
      "cell_type": "code",
      "metadata": {
        "id": "3WeK_MpzHYTU",
        "colab_type": "code",
        "outputId": "7bb8af1a-b7a2-4555-ffd6-b552380a63d0",
        "colab": {
          "base_uri": "https://localhost:8080/",
          "height": 52
        }
      },
      "source": [
        "a=10\n",
        "print(a)\n",
        "a*2"
      ],
      "execution_count": 0,
      "outputs": [
        {
          "output_type": "stream",
          "text": [
            "10\n"
          ],
          "name": "stdout"
        },
        {
          "output_type": "execute_result",
          "data": {
            "text/plain": [
              "20"
            ]
          },
          "metadata": {
            "tags": []
          },
          "execution_count": 6
        }
      ]
    },
    {
      "cell_type": "code",
      "metadata": {
        "id": "t8iaEAYGIybs",
        "colab_type": "code",
        "outputId": "88a20ce1-d63c-4785-88d5-667c2da0e387",
        "colab": {
          "base_uri": "https://localhost:8080/",
          "height": 34
        }
      },
      "source": [
        "b=20\n",
        "a+b"
      ],
      "execution_count": 0,
      "outputs": [
        {
          "output_type": "execute_result",
          "data": {
            "text/plain": [
              "30"
            ]
          },
          "metadata": {
            "tags": []
          },
          "execution_count": 7
        }
      ]
    },
    {
      "cell_type": "code",
      "metadata": {
        "id": "qLV2FDkSJWek",
        "colab_type": "code",
        "outputId": "42f24f46-9918-4672-8d7b-0d54ff68bb1f",
        "colab": {
          "base_uri": "https://localhost:8080/",
          "height": 34
        }
      },
      "source": [
        "name=\"Gitam\"\n",
        "Address=\"Hyd\"\n",
        "print(name,\"university\",\"Place\",Address)"
      ],
      "execution_count": 0,
      "outputs": [
        {
          "output_type": "stream",
          "text": [
            "Gitam university Place Hyd\n"
          ],
          "name": "stdout"
        }
      ]
    },
    {
      "cell_type": "code",
      "metadata": {
        "id": "HjKwlN24KU_A",
        "colab_type": "code",
        "outputId": "306d8365-d1e3-45f8-ca21-ddb20e963989",
        "colab": {
          "base_uri": "https://localhost:8080/",
          "height": 52
        }
      },
      "source": [
        "input(\"enter your name \")"
      ],
      "execution_count": 0,
      "outputs": [
        {
          "output_type": "stream",
          "text": [
            "enter your name Sripath\n"
          ],
          "name": "stdout"
        },
        {
          "output_type": "execute_result",
          "data": {
            "text/plain": [
              "'Sripath'"
            ]
          },
          "metadata": {
            "tags": []
          },
          "execution_count": 10
        }
      ]
    },
    {
      "cell_type": "code",
      "metadata": {
        "id": "xAyRJw5cLgZt",
        "colab_type": "code",
        "outputId": "331df2ea-75b0-4c9b-a128-575ea0e3db4b",
        "colab": {
          "base_uri": "https://localhost:8080/",
          "height": 52
        }
      },
      "source": [
        "b=int(input())\n",
        "type(b)"
      ],
      "execution_count": 0,
      "outputs": [
        {
          "output_type": "stream",
          "text": [
            "5\n"
          ],
          "name": "stdout"
        },
        {
          "output_type": "execute_result",
          "data": {
            "text/plain": [
              "int"
            ]
          },
          "metadata": {
            "tags": []
          },
          "execution_count": 12
        }
      ]
    },
    {
      "cell_type": "code",
      "metadata": {
        "id": "f34DHX3vLzEX",
        "colab_type": "code",
        "outputId": "5c918119-8de7-48cd-92b9-e1902d3e7b97",
        "colab": {
          "base_uri": "https://localhost:8080/",
          "height": 52
        }
      },
      "source": [
        "b=input()\n",
        "type(b)"
      ],
      "execution_count": 0,
      "outputs": [
        {
          "output_type": "stream",
          "text": [
            "s\n"
          ],
          "name": "stdout"
        },
        {
          "output_type": "execute_result",
          "data": {
            "text/plain": [
              "str"
            ]
          },
          "metadata": {
            "tags": []
          },
          "execution_count": 13
        }
      ]
    },
    {
      "cell_type": "code",
      "metadata": {
        "id": "s8a9hLewOOCV",
        "colab_type": "code",
        "outputId": "2aa3f096-f012-41dd-fd2d-1e4243e9d6d6",
        "colab": {
          "base_uri": "https://localhost:8080/",
          "height": 34
        }
      },
      "source": [
        "x=11\n",
        "y=12.5\n",
        "z=x+y;\n",
        "print(type(x),type(y),type(z))"
      ],
      "execution_count": 0,
      "outputs": [
        {
          "output_type": "stream",
          "text": [
            "<class 'int'> <class 'float'> <class 'float'>\n"
          ],
          "name": "stdout"
        }
      ]
    },
    {
      "cell_type": "code",
      "metadata": {
        "id": "TiaGDxjFRxof",
        "colab_type": "code",
        "outputId": "67fc6217-59b7-4e8b-9024-350e7f2989bd",
        "colab": {
          "base_uri": "https://localhost:8080/",
          "height": 69
        }
      },
      "source": [
        "i=100\n",
        "print(type(i))\n",
        "j=str(i)\n",
        "print(type(j))\n",
        "k=float(i)\n",
        "print(type(k))"
      ],
      "execution_count": 0,
      "outputs": [
        {
          "output_type": "stream",
          "text": [
            "<class 'int'>\n",
            "<class 'str'>\n",
            "<class 'float'>\n"
          ],
          "name": "stdout"
        }
      ]
    },
    {
      "cell_type": "code",
      "metadata": {
        "id": "tozMemRzSNCx",
        "colab_type": "code",
        "outputId": "508ede81-53bf-4858-cfd8-f02ab3bc01f7",
        "colab": {
          "base_uri": "https://localhost:8080/",
          "height": 52
        }
      },
      "source": [
        "a=\"100\"\n",
        "print(type(a))\n",
        "b=float(a)\n",
        "b"
      ],
      "execution_count": 0,
      "outputs": [
        {
          "output_type": "stream",
          "text": [
            "<class 'str'>\n"
          ],
          "name": "stdout"
        },
        {
          "output_type": "execute_result",
          "data": {
            "text/plain": [
              "100.0"
            ]
          },
          "metadata": {
            "tags": []
          },
          "execution_count": 18
        }
      ]
    },
    {
      "cell_type": "code",
      "metadata": {
        "id": "dkxr2VrNWrDu",
        "colab_type": "code",
        "outputId": "49732034-e17b-4059-ef90-35dc92e96d19",
        "colab": {
          "base_uri": "https://localhost:8080/",
          "height": 121
        }
      },
      "source": [
        "x=6\n",
        "y=3\n",
        "print(x+y)\n",
        "print(x-y)\n",
        "print(x*y)\n",
        "print(x/y)\n",
        "print(x%y)\n",
        "print(x**y)"
      ],
      "execution_count": 0,
      "outputs": [
        {
          "output_type": "stream",
          "text": [
            "9\n",
            "3\n",
            "18\n",
            "2.0\n",
            "0\n",
            "216\n"
          ],
          "name": "stdout"
        }
      ]
    },
    {
      "cell_type": "code",
      "metadata": {
        "id": "uVWV_eCHWvDl",
        "colab_type": "code",
        "outputId": "1e8e2765-a786-4686-8886-1b59da66bfd9",
        "colab": {
          "base_uri": "https://localhost:8080/",
          "height": 52
        }
      },
      "source": [
        "a=10\n",
        "b=20\n",
        "print(a>=20 and a>30)\n",
        "print(a>=10 or a>30)"
      ],
      "execution_count": 0,
      "outputs": [
        {
          "output_type": "stream",
          "text": [
            "False\n",
            "True\n"
          ],
          "name": "stdout"
        }
      ]
    },
    {
      "cell_type": "code",
      "metadata": {
        "id": "TzQn48ZwYsM9",
        "colab_type": "code",
        "outputId": "0e02516f-65f3-4234-b239-a50da1345dd5",
        "colab": {
          "base_uri": "https://localhost:8080/",
          "height": 121
        }
      },
      "source": [
        "x=6\n",
        "y=3\n",
        "print(x>y)\n",
        "print(x<y)\n",
        "print(x!=y)\n",
        "print(x==y)\n",
        "print(x>=y)\n",
        "print(x<=y)"
      ],
      "execution_count": 0,
      "outputs": [
        {
          "output_type": "stream",
          "text": [
            "True\n",
            "False\n",
            "True\n",
            "False\n",
            "True\n",
            "False\n"
          ],
          "name": "stdout"
        }
      ]
    },
    {
      "cell_type": "code",
      "metadata": {
        "id": "4P4lcImvY9cC",
        "colab_type": "code",
        "outputId": "a00330d8-f2a3-46ed-fc06-86eca26729f7",
        "colab": {
          "base_uri": "https://localhost:8080/",
          "height": 52
        }
      },
      "source": [
        "str1=\"sripath\"\n",
        "print('a' in str1)\n",
        "print('c' in str1)"
      ],
      "execution_count": 0,
      "outputs": [
        {
          "output_type": "stream",
          "text": [
            "True\n",
            "False\n"
          ],
          "name": "stdout"
        }
      ]
    },
    {
      "cell_type": "code",
      "metadata": {
        "id": "s4ll9W5gaOGw",
        "colab_type": "code",
        "outputId": "2ecd2b74-68a2-499d-824e-540a1fd9244f",
        "colab": {
          "base_uri": "https://localhost:8080/",
          "height": 34
        }
      },
      "source": [
        "a = 33\n",
        "b = 200\n",
        "if b > a:\n",
        "  print(\"b is greater than a\")"
      ],
      "execution_count": 0,
      "outputs": [
        {
          "output_type": "stream",
          "text": [
            "b is greater than a\n"
          ],
          "name": "stdout"
        }
      ]
    },
    {
      "cell_type": "code",
      "metadata": {
        "id": "0rbF6udXbrqo",
        "colab_type": "code",
        "outputId": "c6327ead-39ce-4881-f189-c2005571d805",
        "colab": {
          "base_uri": "https://localhost:8080/",
          "height": 34
        }
      },
      "source": [
        "a = 33\n",
        "b = 22\n",
        "if b > a:\n",
        "  print(\"b is greater than a\")\n",
        "else:\n",
        "  print(\"a is greater than b\")"
      ],
      "execution_count": 0,
      "outputs": [
        {
          "output_type": "stream",
          "text": [
            "a is greater than b\n"
          ],
          "name": "stdout"
        }
      ]
    },
    {
      "cell_type": "markdown",
      "metadata": {
        "id": "8-Zk2r0Fcxn1",
        "colab_type": "text"
      },
      "source": [
        "Below is the program to check whether the given number is odd or even?"
      ]
    },
    {
      "cell_type": "code",
      "metadata": {
        "id": "kW9iR9vLcout",
        "colab_type": "code",
        "outputId": "d8c76d52-d2d9-489d-c416-8dfbcb508956",
        "colab": {
          "base_uri": "https://localhost:8080/",
          "height": 52
        }
      },
      "source": [
        "num=int(input(\"enter a number\"))\n",
        "if num%2==0:\n",
        "  print(\"the number is even\")\n",
        "else:\n",
        "  print(\"the number is odd\")"
      ],
      "execution_count": 0,
      "outputs": [
        {
          "output_type": "stream",
          "text": [
            "enter a number19\n",
            "the number is odd\n"
          ],
          "name": "stdout"
        }
      ]
    },
    {
      "cell_type": "markdown",
      "metadata": {
        "id": "xIH6i_ASe-HN",
        "colab_type": "text"
      },
      "source": [
        "code to check wether a number is divisible by  3 and 5"
      ]
    },
    {
      "cell_type": "code",
      "metadata": {
        "id": "bLYwnCGEdQnO",
        "colab_type": "code",
        "outputId": "70a1ba0f-ad97-4a18-9e35-3356855d718e",
        "colab": {
          "base_uri": "https://localhost:8080/",
          "height": 52
        }
      },
      "source": [
        "num=int(input(\"Enter number:\"))\n",
        "if(num%3==0 and num%5==0):\n",
        "  print(\"number is divisible by 3 and 5\")\n",
        "else:\n",
        "  print(\"Not divisible\")"
      ],
      "execution_count": 0,
      "outputs": [
        {
          "output_type": "stream",
          "text": [
            "Enter number:15\n",
            "number is divisible by 3 and 5\n"
          ],
          "name": "stdout"
        }
      ]
    },
    {
      "cell_type": "code",
      "metadata": {
        "id": "PFcakmy9fYlP",
        "colab_type": "code",
        "colab": {}
      },
      "source": [
        ""
      ],
      "execution_count": 0,
      "outputs": []
    },
    {
      "cell_type": "code",
      "metadata": {
        "id": "C4ZSXsXacLZ4",
        "colab_type": "code",
        "outputId": "d0084ddc-a880-46b7-cb9b-bc3e321ccc86",
        "colab": {
          "base_uri": "https://localhost:8080/",
          "height": 34
        }
      },
      "source": [
        "a = 33\n",
        "b = 23\n",
        "c = 45\n",
        "if a > b and a > c:\n",
        "  print(\"a is greater\")\n",
        "elif b > a and b > c:\n",
        "  print(\"b is greater\")\n",
        "elif c > a and c > b:\n",
        "  print(\"c is greater\")"
      ],
      "execution_count": 0,
      "outputs": [
        {
          "output_type": "stream",
          "text": [
            "c is greater\n"
          ],
          "name": "stdout"
        }
      ]
    },
    {
      "cell_type": "code",
      "metadata": {
        "id": "Zv-LcfzOiP2X",
        "colab_type": "code",
        "outputId": "1a31854a-f645-459f-e257-fa931895b481",
        "colab": {
          "base_uri": "https://localhost:8080/",
          "height": 52
        }
      },
      "source": [
        "num=int(input(\"entre a number:\"))\n",
        "if num==0:\n",
        "  print(\"number is zero\")\n",
        "elif num>0:\n",
        "  print(\"number is +ve\")\n",
        "elif num<0:\n",
        "  print(\"number is -ve\")"
      ],
      "execution_count": 0,
      "outputs": [
        {
          "output_type": "stream",
          "text": [
            "entre a number:0\n",
            "number is zero\n"
          ],
          "name": "stdout"
        }
      ]
    },
    {
      "cell_type": "code",
      "metadata": {
        "id": "E1MXypaVjQTP",
        "colab_type": "code",
        "outputId": "b529571b-8d40-4428-970c-001f0b311b6a",
        "colab": {
          "base_uri": "https://localhost:8080/",
          "height": 52
        }
      },
      "source": [
        "year = int(input(\"Enter Year: \"))\n",
        "# Leap Year Check\n",
        "if year%4==0 and year%100!=0:\n",
        "    print(year, \"is a Leap Year\")\n",
        "elif year%400==0:\n",
        "    print(year, \"is a Leap Year\")\n",
        "else:\n",
        "    print(year, \"is not a Leap Year\")"
      ],
      "execution_count": 0,
      "outputs": [
        {
          "output_type": "stream",
          "text": [
            "Enter Year: 2018\n",
            "2018 is not a Leap Year\n"
          ],
          "name": "stdout"
        }
      ]
    }
  ]
}